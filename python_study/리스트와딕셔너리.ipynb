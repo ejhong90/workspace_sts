{
 "cells": [
  {
   "cell_type": "markdown",
   "metadata": {},
   "source": [
    "### List(리스트)\n",
    "+ 리스트 변수 생성 시, list 라는 이름의 변수 생성 금지!"
   ]
  },
  {
   "cell_type": "code",
   "execution_count": 3,
   "metadata": {},
   "outputs": [],
   "source": [
    "# 빈 리스트 생성\n",
    "list1 = []\n",
    "\n",
    "# 초기값을 갖는 리스트 생성\n",
    "# 자바와 다르게 다른 자료형이 리스트의 요소로 들어올 수 있음\n",
    "list2 = [1, 1.1, 'phython']\n",
    "\n"
   ]
  },
  {
   "cell_type": "code",
   "execution_count": 18,
   "metadata": {},
   "outputs": [
    {
     "name": "stdout",
     "output_type": "stream",
     "text": [
      "[1, 1.1, 'phython']\n",
      "0 = 1, 1 = 1.1, 2 = phython, \n",
      "\n",
      "1\n",
      "1.1\n",
      "phython\n",
      "\n",
      "\n",
      "1.1\n"
     ]
    }
   ],
   "source": [
    "# 리스트 값 읽기\n",
    "# 리스트 선언부와 출력부가 달라도 출력됨\n",
    "print(list2)\n",
    "\n",
    "# 반복문을 이용해 리스트의 모든 데이터 출력\n",
    "for i, e in enumerate(list2):\n",
    "    print(f'{i} = {e}', end=', ') \n",
    "print()\n",
    "print()\n",
    "for e in list2:\n",
    "    print(e)\n",
    "print()\n",
    "print()\n",
    "# 각각의 요소 출력\n",
    "print(list2[1])"
   ]
  },
  {
   "cell_type": "code",
   "execution_count": 27,
   "metadata": {},
   "outputs": [
    {
     "name": "stdout",
     "output_type": "stream",
     "text": [
      "[0, 1, 2]\n",
      "[0, 1, 2, 3, 4]\n",
      "[6, 7, 8, 9, 10]\n",
      "[0, 1, 2, 3, 4, 5, 6, 7, 8, 9, 10]\n",
      "[9, 10]\n"
     ]
    }
   ],
   "source": [
    "# 슬라이싱 활용1\n",
    "list3 = [0, 1, 2, 3, 4, 5, 6, 7, 8, 9, 10]\n",
    "\n",
    "# [a:b]\n",
    "# a : 시작 index 이상\n",
    "# b : 마지막 index 미만\n",
    "print(list3[0:3])\n",
    "print(list3[:5])\n",
    "print(list3[6:])\n",
    "print(list3[:]) # print(list3) 와 동일한 결과\n",
    "print(list3[-2:]) # 뒤에서부터 "
   ]
  },
  {
   "cell_type": "code",
   "execution_count": 60,
   "metadata": {},
   "outputs": [
    {
     "name": "stdout",
     "output_type": "stream",
     "text": [
      "python c++\n",
      "pyt\n",
      "java \n",
      "c++\n",
      "\n",
      "jpg\n",
      "jpg\n",
      "jpg\n",
      "\n",
      "\n",
      "15\n",
      "9\n",
      "2\n",
      "11\n",
      "\n",
      "안녕하세요\n",
      "안녕하세요\n",
      "또 만나요\n",
      "또 만나요\n",
      "만나서 반가웠어요\n",
      "만나서 반가웠어요\n"
     ]
    }
   ],
   "source": [
    "# 슬라이싱 활용2\n",
    "test_str = 'java python c++'\n",
    "print(test_str[5:])\n",
    "print(test_str[5:8])\n",
    "print(test_str[0:5])\n",
    "print(test_str[-3:])\n",
    "\n",
    "# 퀴즈\n",
    "# 아래 리스트에 저장된 문자열에서 jpg 문자열 추출 및 출력\n",
    "str_arr = [\n",
    "    '안녕하세요.jpg',\n",
    "    '또 만나요.jpg',\n",
    "    '만나서 반가웠어요.jpg'\n",
    "]\n",
    "print()\n",
    "for e in str_arr:\n",
    "    print(e[-3:])\n",
    "\n",
    "print()\n",
    "print()\n",
    "# 문자열 길이 알아내기\n",
    "print(len(test_str))\n",
    "print(len(str_arr[0]))\n",
    "\n",
    "# 문자열에서 특정 문자열의 위치값 찾아내기\n",
    "str1 = 'python'\n",
    "print(str1.index('t'))\n",
    "\n",
    "str2 = 'java.python.c++'\n",
    "print(str2.rindex('.'))\n",
    "\n",
    "print()\n",
    "# str_arr 에서 .jpg 라는 문자열을 제외한 나머지 문자열만 추출하여 출력\n",
    "for e in str_arr :\n",
    "    print(e[:-4])\n",
    "    print(e[:e.rindex('.')])\n",
    "\n"
   ]
  },
  {
   "cell_type": "code",
   "execution_count": 81,
   "metadata": {},
   "outputs": [
    {
     "name": "stdout",
     "output_type": "stream",
     "text": [
      "[1, 10.5, 2.2, 10.5]\n"
     ]
    }
   ],
   "source": [
    "# 리스트 데이터 추가\n",
    "list4 = []\n",
    "\n",
    "# append : 리스트의 가장 마지막에 데이터 추가\n",
    "list4.append(1)\n",
    "list4.append(2.2)\n",
    "list4.append(10.5)\n",
    "# print(list4)\n",
    "# print()\n",
    "\n",
    "# insert(위치, 값) : 리스트에서 원하는 위치에 데이터 추가\n",
    "list4.insert(1, 10.5)\n",
    "print(list4)\n"
   ]
  },
  {
   "cell_type": "code",
   "execution_count": 87,
   "metadata": {},
   "outputs": [
    {
     "name": "stdout",
     "output_type": "stream",
     "text": [
      "[1, 2, 3, 4, 5, 6, 7, 8]\n",
      "[]\n",
      "\n",
      "[]\n"
     ]
    }
   ],
   "source": [
    "# 리스트에서 데이터 삭제\n",
    "# del(리스트명[인덱스])\n",
    "\n",
    "# del(list4[1])\n",
    "# print(list4)\n",
    "\n",
    "list5 = [1, 2, 3, 4, 5, 6, 7, 8, 9]\n",
    "# del(list5[:3])\n",
    "# print(list5)\n",
    "\n",
    "# 리스트명.remove(삭제할 값)\n",
    "list5.remove(9)\n",
    "print(list5)\n",
    "\n",
    "# 리스트의 모든 내용 지우기\n",
    "list5.clear() # 변수 안의 값들만 삭제 (리스트를 삭제하지 않음)\n",
    "print(list5)\n",
    "print()\n",
    "list5 = [1, 2, 3, 4, 5, 6, 7, 8, 9]\n",
    "del(list5[:]) # 변수 안의 값들 삭제\n",
    "# del(list5) 변수 자체 삭제\n",
    "print(list5)"
   ]
  },
  {
   "cell_type": "markdown",
   "metadata": {},
   "source": [
    "### dictionary (딕셔너리)"
   ]
  },
  {
   "cell_type": "code",
   "execution_count": 88,
   "metadata": {},
   "outputs": [],
   "source": [
    "# 딕셔너리 생성\n",
    "dic1 = {} # 텅 빈 딕셔너리 생성\n",
    "dic2 = {'이름' : '홍길동', '나이' : 20}"
   ]
  },
  {
   "cell_type": "code",
   "execution_count": 95,
   "metadata": {},
   "outputs": [
    {
     "name": "stdout",
     "output_type": "stream",
     "text": [
      "{'이름': '홍길동', '나이': 20}\n",
      "홍길동\n",
      "20\n",
      "key = 이름, value=홍길동\n",
      "key = 나이, value=20\n"
     ]
    }
   ],
   "source": [
    "# 딕셔너리 출력\n",
    "print(dic2)\n",
    "\n",
    "# 하나의 데이터 출력\n",
    "print(dic2['이름'])\n",
    "print(dic2.get('나이'))\n",
    "\n",
    "# 반복문 이용하기\n",
    "for key in dic2 :\n",
    "    print(f'key = {key}, value = {dic2[key]}')\n"
   ]
  },
  {
   "cell_type": "code",
   "execution_count": 99,
   "metadata": {},
   "outputs": [
    {
     "name": "stdout",
     "output_type": "stream",
     "text": [
      "{'이름': '홍길동'}\n",
      "{'이름': '홍길동', '연락처': '010-1111-2222'}\n",
      "{'이름': '이순신', '연락처': '010-1111-2222'}\n"
     ]
    }
   ],
   "source": [
    "# 딕셔너리에 데이터 추가하기\n",
    "dic3 = {}\n",
    "\n",
    "# key가 이름이고, value는 '홍길동'인 데이터 추가하기\n",
    "dic3['이름'] = '홍길동'\n",
    "print(dic3)\n",
    "dic3['연락처'] = '010-1111-2222'\n",
    "print(dic3)\n",
    "\n",
    "# dic3 안에 key가 이름인 데이터의 value(값)을 '이순신'으로 변경\n",
    "dic3['이름'] = '이순신' # dictionary는 중복 X\n",
    "print(dic3)"
   ]
  },
  {
   "cell_type": "code",
   "execution_count": 100,
   "metadata": {},
   "outputs": [
    {
     "name": "stdout",
     "output_type": "stream",
     "text": [
      "{'연락처': '010-1111-2222'}\n"
     ]
    }
   ],
   "source": [
    "# 데이터 삭제\n",
    "# key = 이름인 데이터 삭제\n",
    "del(dic3['이름'])\n",
    "print(dic3)\n",
    "\n",
    "# dic3.clear() # dic3 안의 모든 내용 지우기"
   ]
  },
  {
   "cell_type": "code",
   "execution_count": 107,
   "metadata": {},
   "outputs": [
    {
     "name": "stdout",
     "output_type": "stream",
     "text": [
      "['1', '2', '3', '4', '5']\n"
     ]
    }
   ],
   "source": [
    "# 리스트 문제 1\n",
    "# 리스트 생성 후,\n",
    "# 키보드로 데이터 5개를 입력받아 입력받은 데이터를 리스트에 추가\n",
    "# 리스트의 모든 내용 출력\n",
    "test_list1 = []\n",
    "for i in range(5) :\n",
    "    value = input(f'{i + 1}번째 값 : ')\n",
    "    test_list1.append(value)\n",
    "print(test_list1)\n"
   ]
  },
  {
   "cell_type": "code",
   "execution_count": 121,
   "metadata": {},
   "outputs": [
    {
     "name": "stdout",
     "output_type": "stream",
     "text": [
      "삭제하려는 데이터가 존재하지 않습니다.\n"
     ]
    }
   ],
   "source": [
    "# 리스트 문제2\n",
    "# 아래 제시된 리스트에서 사용자가 입력한 값을 찾아 삭제하는 코드 작성\n",
    "test_list2 = [1,2,3,4,5]\n",
    "searchData = int(input('데이터 입력 : '))\n",
    "\n",
    "if searchData in test_list2 :\n",
    "    test_list2.remove(searchData)\n",
    "    print(f'삭제 결과 : {test_list2}')\n",
    "else :\n",
    "    print('삭제하려는 데이터가 존재하지 않습니다.')"
   ]
  },
  {
   "cell_type": "code",
   "execution_count": 130,
   "metadata": {},
   "outputs": [
    {
     "name": "stdout",
     "output_type": "stream",
     "text": [
      "합 : 30\n",
      "최대 : 10\n",
      "최소 : 2\n"
     ]
    }
   ],
   "source": [
    "# 리스트 문제3\n",
    "# 1~10까지의 수 중 짝수만 리스트에 저장하고 리스트에 저장된 데이터 합 출력\n",
    "test_list3 = []\n",
    "for e in range(1, 11) : \n",
    "    if e % 2 == 0 :\n",
    "        test_list3.append(e)\n",
    "\n",
    "print(f'합 : {sum(test_list3)}')\n",
    "print(f'최대 : {max(test_list3)}')\n",
    "print(f'최소 : {min(test_list3)}')\n",
    "\n",
    "# sum(test_list3) / len(test_list3) # 평균"
   ]
  },
  {
   "cell_type": "code",
   "execution_count": null,
   "metadata": {},
   "outputs": [],
   "source": [
    "# 주의사항\n",
    "# 파이썬 내부에 존재하는 함수를 변수명으로 실행 시, \n",
    "# 오류가 발생함"
   ]
  },
  {
   "cell_type": "code",
   "execution_count": 136,
   "metadata": {},
   "outputs": [
    {
     "name": "stdout",
     "output_type": "stream",
     "text": [
      "{'이름': 'java', '나이': 20, '국어점수': 60, '영어점수': 80}\n"
     ]
    }
   ],
   "source": [
    "# 빈 dictionary 객체 생성 후\n",
    "# 이름, 나이, 국어점수, 영어점수 key로 추가\n",
    "# 각각의 키에 대응하는 value는 키보드로 입력 받아\n",
    "# dictionary 객체에 저장하고 출력하시오\n",
    "\n",
    "# 파이썬에서는 null이라는 개념을 null 이 아닌 다른 것으로 사용함 : None\n",
    "# if name is (not) None 으로 씀\n",
    "\n",
    "# test_dic['이름'] = None\n",
    "# test_dic['나이'] = None\n",
    "# test_dic['국어점수'] = None\n",
    "# test_dic['영어점수'] = None\n",
    "\n",
    "test_dic1 = {}\n",
    "test_dic1['이름'] = input('이름 : ')\n",
    "test_dic1['나이'] = int(input('나이 : '))\n",
    "test_dic1['국어점수'] = int(input('국어점수 : '))\n",
    "test_dic1['영어점수'] = int(input('영어점수 : '))\n",
    "print(test_dic1)\n"
   ]
  },
  {
   "cell_type": "code",
   "execution_count": 137,
   "metadata": {},
   "outputs": [
    {
     "name": "stdout",
     "output_type": "stream",
     "text": [
      "140\n",
      "{'이름': 'java', '나이': 20, '국어점수': 60, '영어점수': 80, '총점': 140}\n"
     ]
    }
   ],
   "source": [
    "# 위에서 만든 딕셔너리 데이터에 '총점' 키를 추가하고\n",
    "# 해당 키의 값으로 국어점수와 영어점수의 합을 저장\n",
    "test_dic1['총점'] = test_dic1['국어점수'] + test_dic1['영어점수']\n",
    "print(test_dic1['총점'])\n",
    "print(test_dic1)"
   ]
  },
  {
   "cell_type": "code",
   "execution_count": 138,
   "metadata": {},
   "outputs": [],
   "source": [
    "# 아래의 데이터를 참고하여 문제를 풀어보세요\n",
    "class_room_data = {\n",
    "    'stu_no' : [1, 2, 3, 4, 5],\n",
    "    'stu_name' : ['김자바', '이자바', '박자바', '최자바', '정자바'],\n",
    "    'stu_score' : [85, 65, 70, 80, 95]\n",
    "}"
   ]
  },
  {
   "cell_type": "code",
   "execution_count": 139,
   "metadata": {},
   "outputs": [
    {
     "name": "stdout",
     "output_type": "stream",
     "text": [
      "95\n"
     ]
    }
   ],
   "source": [
    "# 최고점수 출력\n",
    "print(max(class_room_data['stu_score']))"
   ]
  },
  {
   "cell_type": "code",
   "execution_count": 143,
   "metadata": {},
   "outputs": [
    {
     "name": "stdout",
     "output_type": "stream",
     "text": [
      "{'stu_no': [1, 2, 3, 4, 5], 'stu_name': ['김자바', '이자바', '박자바', '최자바', '정자바'], 'stu_score': [85, 65, 70, 80, 95], 'stu_grade': ['B', 'C', 'C', 'B', 'A']}\n"
     ]
    }
   ],
   "source": [
    "# 위의 데이터에 'stu_grade' 키 추가,\n",
    "# 해당 키에 대한 값으로 아래의 글을 참고\n",
    "# 90 <= 점수 : A\n",
    "# 80 <= 점수 < 90 : B\n",
    "# 점수 < 80 : C\n",
    "class_room_data['stu_grade'] = []\n",
    "\n",
    "for e in  class_room_data['stu_score'] :\n",
    "    if e >= 90 :\n",
    "        class_room_data['stu_grade'].append('A')\n",
    "    elif 90 > e >= 80 :\n",
    "        class_room_data['stu_grade'].append('B')\n",
    "    else : \n",
    "        class_room_data['stu_grade'].append('C')\n",
    "\n",
    "# for score in class_room_data['stu_score'] :\n",
    "#     grade = ''\n",
    "#     if score >= 90 :\n",
    "#         grade = 'A'\n",
    "#     elif score >= 80 :\n",
    "#         grade = 'B'\n",
    "#     else :\n",
    "#         grade = 'C'\n",
    "\n",
    "#     class_room_data['stu_grade'].append(grade)\n",
    "\n",
    "print(class_room_data)\n",
    "        \n",
    "\n",
    "\n"
   ]
  },
  {
   "cell_type": "code",
   "execution_count": null,
   "metadata": {},
   "outputs": [],
   "source": []
  }
 ],
 "metadata": {
  "kernelspec": {
   "display_name": "Python 3",
   "language": "python",
   "name": "python3"
  },
  "language_info": {
   "codemirror_mode": {
    "name": "ipython",
    "version": 3
   },
   "file_extension": ".py",
   "mimetype": "text/x-python",
   "name": "python",
   "nbconvert_exporter": "python",
   "pygments_lexer": "ipython3",
   "version": "3.12.2"
  }
 },
 "nbformat": 4,
 "nbformat_minor": 2
}
