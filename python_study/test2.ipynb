{
 "cells": [
  {
   "cell_type": "markdown",
   "metadata": {},
   "source": [
    "# 자주 사용하는 주피터노트북 단축키\n",
    "+ Y - 해당 셀을 코드 작성 셀로 변경\n",
    "+ M - 해당 셀을 마크다운 셀로 변경\n",
    "+ Ctrl + Enter - 선택한 셀 실행\n",
    "+ D(D) - 선택한 셀 삭제\n",
    "+ A - 선택한 셀 위에 새로운 셀 추가\n",
    "+ B - 선택한 셀 아래에 새로운 셀 추가\n",
    "\n",
    "# 파이썬 출력문\n",
    "+ 파이썬은 명령어 종료 후 세미콜론 안 붙임"
   ]
  },
  {
   "cell_type": "code",
   "execution_count": 10,
   "metadata": {},
   "outputs": [
    {
     "name": "stdout",
     "output_type": "stream",
     "text": [
      "1\n",
      "큰일남\n",
      "큰일남2\n",
      "30\n"
     ]
    }
   ],
   "source": [
    "# 숫자 출력\n",
    "print(1)\n",
    "\n",
    "# 문자 출력\n",
    "print(\"큰일남\")\n",
    "print('큰일남2')\n",
    "\n",
    "# 출력문 안의 내용이 연산 가능하다면 연산 결과를 출력\n",
    "print(10 + 20)\n",
    "# 자바와 다르게 숫자와 문자끼리의 합은 오류 발생\n",
    "# print(10+\"what\") # 오류\n"
   ]
  },
  {
   "cell_type": "markdown",
   "metadata": {},
   "source": [
    "### 파이썬 연산자\n",
    "(자바와 다른 부분들)"
   ]
  },
  {
   "cell_type": "code",
   "execution_count": 15,
   "metadata": {},
   "outputs": [
    {
     "name": "stdout",
     "output_type": "stream",
     "text": [
      "3.3333333333333335\n",
      "3\n",
      "1\n",
      "8\n"
     ]
    }
   ],
   "source": [
    "# 나눗셈 연산 결과 : 소수점 자리까지 출력\n",
    "print(10 / 3)\n",
    "\n",
    "# 몫만 계산하는 연산자\n",
    "print(10 // 3)\n",
    "\n",
    "# 나머지를 구하는 연산자\n",
    "print(10 % 3)\n",
    "\n",
    "# 거듭제곱 연산자\n",
    "print(2 ** 3)\n",
    "\n",
    "# 기타 연산자의 경우 자바와 모두 동일함 (등호 포함)"
   ]
  },
  {
   "cell_type": "markdown",
   "metadata": {},
   "source": [
    "### 파이썬 자료형 (기본)\n",
    "+ 파이썬은 눈에 보이지 않는 자료형 존재하나, 코딩으로는 작성하지 않음"
   ]
  },
  {
   "cell_type": "code",
   "execution_count": 32,
   "metadata": {},
   "outputs": [
    {
     "name": "stdout",
     "output_type": "stream",
     "text": [
      "<class 'int'>\n",
      "<class 'float'>\n",
      "<class 'str'>\n",
      "10\n",
      "10.0\n",
      "<class 'str'>\n",
      "<class 'bool'>\n"
     ]
    }
   ],
   "source": [
    "a = 10\n",
    "print(type(a))\n",
    "b = 10.5\n",
    "print(type(b))\n",
    "c = \"박\"\n",
    "print(type(c))\n",
    "\n",
    "# 파이썬 기본 자료형 변환\n",
    "print(int(\"10\"))\n",
    "print(float(a))\n",
    "d = str(b)\n",
    "print(type(d))\n",
    "\n",
    "# 참 또는 거짓\n",
    "bool1 = True\n",
    "bool2 = False\n",
    "print(type(bool1))\n",
    "\n"
   ]
  },
  {
   "cell_type": "markdown",
   "metadata": {},
   "source": [
    "### 많이 사용하는 파이썬 자료형\n",
    "+ 리스트 (배열)\n",
    "+ Dictionary\n",
    "+ 셋 (set)\n",
    "+ 튜플 tuple"
   ]
  },
  {
   "cell_type": "code",
   "execution_count": 41,
   "metadata": {},
   "outputs": [
    {
     "name": "stdout",
     "output_type": "stream",
     "text": [
      "[1, 2, 3, 4, 5]\n",
      "1\n",
      "<class 'list'>\n",
      "1.1\n"
     ]
    }
   ],
   "source": [
    "# 리스트 생성 (자료형과 똑같은 변수명 사용X)\n",
    "list_1 = [1,2,3,4,5]\n",
    "print(list_1)\n",
    "print(list_1[0])\n",
    "print(type(list_1))\n",
    "\n",
    "list_2 = [1, 1.1, 'g']\n",
    "print(list_2[1])\n"
   ]
  },
  {
   "cell_type": "code",
   "execution_count": 47,
   "metadata": {},
   "outputs": [
    {
     "name": "stdout",
     "output_type": "stream",
     "text": [
      "{'a': 1, 'b': 1.1, 'c': 'you'}\n",
      "1\n",
      "1\n"
     ]
    }
   ],
   "source": [
    "# dictionary\n",
    "\n",
    "dic_1 = {'a' : 1, 'b' : 1.1 , 'c' : 'you'}\n",
    "print(dic_1)\n",
    "print(dic_1['a'])\n",
    "print(dic_1.get('a'))"
   ]
  },
  {
   "cell_type": "code",
   "execution_count": 56,
   "metadata": {},
   "outputs": [
    {
     "name": "stdout",
     "output_type": "stream",
     "text": [
      "phython\n",
      "phython\n",
      "phython\n"
     ]
    }
   ],
   "source": [
    "school = {\n",
    "    'schoolName' : '그린학교',\n",
    "    'classInfo' : [\n",
    "        {\n",
    "            'className' : 'java',\n",
    "            'stuCnt' : 30\n",
    "        }, {\n",
    "            'className' : 'phython',\n",
    "            'stucnt' : 20\n",
    "        }\n",
    "    ]\n",
    "}\n",
    "y = school['classInfo']\n",
    "print(y[1].get('className'))\n",
    "print(school['classInfo'][1].get('className'))\n",
    "print(school['classInfo'][1]['className'])"
   ]
  }
 ],
 "metadata": {
  "kernelspec": {
   "display_name": "Python 3",
   "language": "python",
   "name": "python3"
  },
  "language_info": {
   "codemirror_mode": {
    "name": "ipython",
    "version": 3
   },
   "file_extension": ".py",
   "mimetype": "text/x-python",
   "name": "python",
   "nbconvert_exporter": "python",
   "pygments_lexer": "ipython3",
   "version": "3.12.2"
  }
 },
 "nbformat": 4,
 "nbformat_minor": 2
}
