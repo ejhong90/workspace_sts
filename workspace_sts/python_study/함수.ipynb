{
 "cells": [
  {
   "cell_type": "markdown",
   "metadata": {},
   "source": [
    "### 함수"
   ]
  },
  {
   "cell_type": "code",
   "execution_count": 4,
   "metadata": {},
   "outputs": [
    {
     "name": "stdout",
     "output_type": "stream",
     "text": [
      "1\n"
     ]
    }
   ],
   "source": [
    "# 함수의 기본 형태\n",
    "\n",
    "def test1() :\n",
    "    print(1)"
   ]
  },
  {
   "cell_type": "code",
   "execution_count": 5,
   "metadata": {},
   "outputs": [
    {
     "name": "stdout",
     "output_type": "stream",
     "text": [
      "1\n"
     ]
    }
   ],
   "source": [
    "test1()"
   ]
  },
  {
   "cell_type": "code",
   "execution_count": 8,
   "metadata": {},
   "outputs": [
    {
     "name": "stdout",
     "output_type": "stream",
     "text": [
      "10\n"
     ]
    }
   ],
   "source": [
    "# 리턴이 있는 함수\n",
    "\n",
    "def getNum() :\n",
    "    return 10\n",
    "\n",
    "val = getNum()\n",
    "print(val)"
   ]
  },
  {
   "cell_type": "code",
   "execution_count": 13,
   "metadata": {},
   "outputs": [
    {
     "name": "stdout",
     "output_type": "stream",
     "text": [
      "30\n"
     ]
    }
   ],
   "source": [
    "# 매개변수로 전달되는 두 수의 합 리턴되는 함수 생성 후 호출\n",
    "def getSum(a, b) :\n",
    "    return a + b\n",
    "\n",
    "print(getSum(10,20))"
   ]
  },
  {
   "cell_type": "code",
   "execution_count": 18,
   "metadata": {},
   "outputs": [
    {
     "name": "stdout",
     "output_type": "stream",
     "text": [
      "(10, 20)\n",
      "10\n",
      "20\n"
     ]
    }
   ],
   "source": [
    "# 파이썬은 필요하다면 여러 데이터를 리턴할 수 있음\n",
    "\n",
    "def test2() : \n",
    "    return 10, 20\n",
    "\n",
    "# 결과가 Tuple(튜플) 자료형으로 나옴 () 소괄호\n",
    "# tuple : List와 동일하나, \"값을 변경하지 못하는\" 자료형\n",
    "val1 = test2()\n",
    "print(val1)\n",
    "\n",
    "num1, num2 = test2()\n",
    "print(num1)\n",
    "print(num2)"
   ]
  },
  {
   "cell_type": "code",
   "execution_count": 23,
   "metadata": {},
   "outputs": [],
   "source": [
    "# 파이썬은 매개변수의 값을 자바와 다르게 지정할 수 있음\n",
    "def intro(name, age) :\n",
    "    print(f'이름은 {name}이고, 나이는 {age}살입니다.')"
   ]
  },
  {
   "cell_type": "code",
   "execution_count": 26,
   "metadata": {},
   "outputs": [
    {
     "name": "stdout",
     "output_type": "stream",
     "text": [
      "이름은 최길동이고, 나이는 25살입니다.\n",
      "이름은 남예준이고, 나이는 23살입니다.\n",
      "이름은 홍길동이고, 나이는 20살입니다.\n"
     ]
    }
   ],
   "source": [
    "intro('홍길동', 20)\n",
    "# 매개변수의 이름으로 값을 전달할 수 있음\n",
    "intro(name = '최길동', age = 25)\n",
    "intro(age = 23, name = '남예준')"
   ]
  },
  {
   "cell_type": "code",
   "execution_count": 27,
   "metadata": {},
   "outputs": [],
   "source": [
    "# 함수 선언 시 매개변수의 기본값(default)을 지정할 수 있음\n",
    "def mySum(a, b = 10, c = 20) :\n",
    "   return a + b + c"
   ]
  },
  {
   "cell_type": "code",
   "execution_count": 34,
   "metadata": {},
   "outputs": [
    {
     "name": "stdout",
     "output_type": "stream",
     "text": [
      "50\n",
      "6\n",
      "23\n",
      "31\n",
      "18\n"
     ]
    }
   ],
   "source": [
    "print(mySum(20))\n",
    "mySum(50)\n",
    "print(mySum(1, 2, 3))\n",
    "print(mySum(1, 2))\n",
    "print(mySum(1))\n",
    "print(mySum(b = 5, a = 10, c = 3))"
   ]
  },
  {
   "cell_type": "code",
   "execution_count": null,
   "metadata": {},
   "outputs": [],
   "source": [
    "# 1. "
   ]
  },
  {
   "cell_type": "code",
   "execution_count": null,
   "metadata": {},
   "outputs": [],
   "source": []
  },
  {
   "cell_type": "code",
   "execution_count": null,
   "metadata": {},
   "outputs": [],
   "source": []
  },
  {
   "cell_type": "code",
   "execution_count": null,
   "metadata": {},
   "outputs": [],
   "source": []
  },
  {
   "cell_type": "code",
   "execution_count": null,
   "metadata": {},
   "outputs": [],
   "source": []
  },
  {
   "cell_type": "code",
   "execution_count": null,
   "metadata": {},
   "outputs": [],
   "source": []
  },
  {
   "cell_type": "code",
   "execution_count": null,
   "metadata": {},
   "outputs": [],
   "source": []
  },
  {
   "cell_type": "code",
   "execution_count": null,
   "metadata": {},
   "outputs": [],
   "source": []
  }
 ],
 "metadata": {
  "kernelspec": {
   "display_name": "Python 3",
   "language": "python",
   "name": "python3"
  },
  "language_info": {
   "codemirror_mode": {
    "name": "ipython",
    "version": 3
   },
   "file_extension": ".py",
   "mimetype": "text/x-python",
   "name": "python",
   "nbconvert_exporter": "python",
   "pygments_lexer": "ipython3",
   "version": "3.12.2"
  }
 },
 "nbformat": 4,
 "nbformat_minor": 2
}
